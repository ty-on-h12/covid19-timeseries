{
 "cells": [
  {
   "cell_type": "markdown",
   "id": "spectacular-prevention",
   "metadata": {},
   "source": [
    "# Covid19 - Exploratory data analysis\n",
    "**Table of contents:**\n",
    "* Importing dependecies\n",
    "* Basic data manipulation - grouping, aggregating etc.\n",
    "* Model building"
   ]
  },
  {
   "cell_type": "code",
   "execution_count": 12,
   "id": "hidden-clause",
   "metadata": {},
   "outputs": [],
   "source": [
    "import pandas as pd\n",
    "from pandas.plotting import lag_plot\n",
    "import numpy as np\n",
    "import matplotlib.pyplot as plt\n",
    "import os\n",
    "from statsmodels.tsa.arima_model import ARIMA"
   ]
  },
  {
   "cell_type": "code",
   "execution_count": 2,
   "id": "eight-berkeley",
   "metadata": {},
   "outputs": [],
   "source": [
    "# Getting all the files in \"data\" directory \n",
    "list_of_files = os.walk('./data/')\n",
    "list_of_files = list(list_of_files)[0][2]\n",
    "\n",
    "# For EDA purposes I am going to use only one country as a template\n",
    "DIR = './data/'\n",
    "COUNTRY = 'poland.csv'"
   ]
  },
  {
   "cell_type": "code",
   "execution_count": 3,
   "id": "advisory-burner",
   "metadata": {},
   "outputs": [],
   "source": [
    "dataset = pd.read_csv(DIR + COUNTRY)"
   ]
  },
  {
   "cell_type": "code",
   "execution_count": 4,
   "id": "ecological-interstate",
   "metadata": {},
   "outputs": [
    {
     "data": {
      "text/html": [
       "<div>\n",
       "<style scoped>\n",
       "    .dataframe tbody tr th:only-of-type {\n",
       "        vertical-align: middle;\n",
       "    }\n",
       "\n",
       "    .dataframe tbody tr th {\n",
       "        vertical-align: top;\n",
       "    }\n",
       "\n",
       "    .dataframe thead th {\n",
       "        text-align: right;\n",
       "    }\n",
       "</style>\n",
       "<table border=\"1\" class=\"dataframe\">\n",
       "  <thead>\n",
       "    <tr style=\"text-align: right;\">\n",
       "      <th></th>\n",
       "      <th>Unnamed: 0</th>\n",
       "      <th>Date</th>\n",
       "      <th>Cases</th>\n",
       "    </tr>\n",
       "  </thead>\n",
       "  <tbody>\n",
       "    <tr>\n",
       "      <th>0</th>\n",
       "      <td>0</td>\n",
       "      <td>2020-03-04</td>\n",
       "      <td>1</td>\n",
       "    </tr>\n",
       "    <tr>\n",
       "      <th>1</th>\n",
       "      <td>1</td>\n",
       "      <td>2020-03-05</td>\n",
       "      <td>1</td>\n",
       "    </tr>\n",
       "    <tr>\n",
       "      <th>2</th>\n",
       "      <td>2</td>\n",
       "      <td>2020-03-06</td>\n",
       "      <td>5</td>\n",
       "    </tr>\n",
       "    <tr>\n",
       "      <th>3</th>\n",
       "      <td>3</td>\n",
       "      <td>2020-03-07</td>\n",
       "      <td>5</td>\n",
       "    </tr>\n",
       "    <tr>\n",
       "      <th>4</th>\n",
       "      <td>4</td>\n",
       "      <td>2020-03-08</td>\n",
       "      <td>11</td>\n",
       "    </tr>\n",
       "  </tbody>\n",
       "</table>\n",
       "</div>"
      ],
      "text/plain": [
       "   Unnamed: 0        Date  Cases\n",
       "0           0  2020-03-04      1\n",
       "1           1  2020-03-05      1\n",
       "2           2  2020-03-06      5\n",
       "3           3  2020-03-07      5\n",
       "4           4  2020-03-08     11"
      ]
     },
     "execution_count": 4,
     "metadata": {},
     "output_type": "execute_result"
    }
   ],
   "source": [
    "dataset.head()"
   ]
  },
  {
   "cell_type": "code",
   "execution_count": 5,
   "id": "fiscal-singles",
   "metadata": {},
   "outputs": [],
   "source": [
    "dataset.drop(['Unnamed: 0'], axis=1, inplace=True)\n",
    "dataset['Date'] = pd.to_datetime(dataset['Date'])"
   ]
  },
  {
   "cell_type": "markdown",
   "id": "functional-lyric",
   "metadata": {},
   "source": [
    "I am interested in prediciting not only *total cases* but also **new cases**, however dataset only contains *total cases* for each day. Luckly this provides enough information to **new cases**. We know that new cases is just the difference between day **n+1** and **n**. We can use a formula: ***NewCases*** = **TotalCases(n+1)** - **TotalCases(n)**. For the last row in the dataset NewCases is going to be undefined, becouse we don't have **TotalCases(n+1).**"
   ]
  },
  {
   "cell_type": "code",
   "execution_count": 6,
   "id": "lesser-mongolia",
   "metadata": {},
   "outputs": [],
   "source": [
    "# this loop implements formula from above\n",
    "new_cases = []\n",
    "for n in range(dataset.shape[0]):\n",
    "    try:\n",
    "        new_cases.append(dataset['Cases'][n+1] - dataset['Cases'][n])\n",
    "    except KeyError:\n",
    "        # new_cases.append(np.NaN) - would contain nan, so let's just pass\n",
    "        pass"
   ]
  },
  {
   "cell_type": "code",
   "execution_count": 7,
   "id": "historical-neighborhood",
   "metadata": {},
   "outputs": [],
   "source": [
    "# Now let's drop last row becouse it contains a NaN\n",
    "dataset.drop(dataset.tail(1).index, inplace=True)"
   ]
  },
  {
   "cell_type": "code",
   "execution_count": 8,
   "id": "hired-press",
   "metadata": {},
   "outputs": [
    {
     "data": {
      "text/html": [
       "<div>\n",
       "<style scoped>\n",
       "    .dataframe tbody tr th:only-of-type {\n",
       "        vertical-align: middle;\n",
       "    }\n",
       "\n",
       "    .dataframe tbody tr th {\n",
       "        vertical-align: top;\n",
       "    }\n",
       "\n",
       "    .dataframe thead th {\n",
       "        text-align: right;\n",
       "    }\n",
       "</style>\n",
       "<table border=\"1\" class=\"dataframe\">\n",
       "  <thead>\n",
       "    <tr style=\"text-align: right;\">\n",
       "      <th></th>\n",
       "      <th>Date</th>\n",
       "      <th>Total_cases</th>\n",
       "      <th>New_cases</th>\n",
       "    </tr>\n",
       "  </thead>\n",
       "  <tbody>\n",
       "    <tr>\n",
       "      <th>0</th>\n",
       "      <td>2020-03-04</td>\n",
       "      <td>1</td>\n",
       "      <td>0</td>\n",
       "    </tr>\n",
       "    <tr>\n",
       "      <th>1</th>\n",
       "      <td>2020-03-05</td>\n",
       "      <td>1</td>\n",
       "      <td>4</td>\n",
       "    </tr>\n",
       "    <tr>\n",
       "      <th>2</th>\n",
       "      <td>2020-03-06</td>\n",
       "      <td>5</td>\n",
       "      <td>0</td>\n",
       "    </tr>\n",
       "    <tr>\n",
       "      <th>3</th>\n",
       "      <td>2020-03-07</td>\n",
       "      <td>5</td>\n",
       "      <td>6</td>\n",
       "    </tr>\n",
       "    <tr>\n",
       "      <th>4</th>\n",
       "      <td>2020-03-08</td>\n",
       "      <td>11</td>\n",
       "      <td>5</td>\n",
       "    </tr>\n",
       "  </tbody>\n",
       "</table>\n",
       "</div>"
      ],
      "text/plain": [
       "        Date  Total_cases  New_cases\n",
       "0 2020-03-04            1          0\n",
       "1 2020-03-05            1          4\n",
       "2 2020-03-06            5          0\n",
       "3 2020-03-07            5          6\n",
       "4 2020-03-08           11          5"
      ]
     },
     "execution_count": 8,
     "metadata": {},
     "output_type": "execute_result"
    }
   ],
   "source": [
    "dataset['New_cases'] = new_cases\n",
    "dataset = dataset.rename(columns={'Cases' : 'Total_cases'})\n",
    "dataset.head()"
   ]
  },
  {
   "cell_type": "markdown",
   "id": "unauthorized-breathing",
   "metadata": {},
   "source": [
    "At the moment *date* column has a frequency of one day - in practice when we look at time series data we should be more concerned with *longer* periods of time such as weeks or months if not years in some cases. **Pandas** *groupby* is ideal for such case."
   ]
  },
  {
   "cell_type": "code",
   "execution_count": 9,
   "id": "danish-original",
   "metadata": {},
   "outputs": [],
   "source": [
    "dataset = dataset.groupby(pd.Grouper(key='Date',freq='W-MON')).agg({'Total_cases':'sum', 'New_cases':'sum'})\n",
    "dataset = dataset.reset_index()"
   ]
  },
  {
   "cell_type": "code",
   "execution_count": 10,
   "id": "close-decade",
   "metadata": {},
   "outputs": [
    {
     "data": {
      "text/html": [
       "<div>\n",
       "<style scoped>\n",
       "    .dataframe tbody tr th:only-of-type {\n",
       "        vertical-align: middle;\n",
       "    }\n",
       "\n",
       "    .dataframe tbody tr th {\n",
       "        vertical-align: top;\n",
       "    }\n",
       "\n",
       "    .dataframe thead th {\n",
       "        text-align: right;\n",
       "    }\n",
       "</style>\n",
       "<table border=\"1\" class=\"dataframe\">\n",
       "  <thead>\n",
       "    <tr style=\"text-align: right;\">\n",
       "      <th></th>\n",
       "      <th>Date</th>\n",
       "      <th>Total_cases</th>\n",
       "      <th>New_cases</th>\n",
       "    </tr>\n",
       "  </thead>\n",
       "  <tbody>\n",
       "    <tr>\n",
       "      <th>0</th>\n",
       "      <td>2020-03-09</td>\n",
       "      <td>39</td>\n",
       "      <td>21</td>\n",
       "    </tr>\n",
       "    <tr>\n",
       "      <th>1</th>\n",
       "      <td>2020-03-16</td>\n",
       "      <td>569</td>\n",
       "      <td>216</td>\n",
       "    </tr>\n",
       "    <tr>\n",
       "      <th>2</th>\n",
       "      <td>2020-03-23</td>\n",
       "      <td>3188</td>\n",
       "      <td>663</td>\n",
       "    </tr>\n",
       "    <tr>\n",
       "      <th>3</th>\n",
       "      <td>2020-03-30</td>\n",
       "      <td>10117</td>\n",
       "      <td>1410</td>\n",
       "    </tr>\n",
       "    <tr>\n",
       "      <th>4</th>\n",
       "      <td>2020-04-06</td>\n",
       "      <td>23336</td>\n",
       "      <td>2537</td>\n",
       "    </tr>\n",
       "  </tbody>\n",
       "</table>\n",
       "</div>"
      ],
      "text/plain": [
       "        Date  Total_cases  New_cases\n",
       "0 2020-03-09           39         21\n",
       "1 2020-03-16          569        216\n",
       "2 2020-03-23         3188        663\n",
       "3 2020-03-30        10117       1410\n",
       "4 2020-04-06        23336       2537"
      ]
     },
     "execution_count": 10,
     "metadata": {},
     "output_type": "execute_result"
    }
   ],
   "source": [
    "dataset.head()"
   ]
  },
  {
   "cell_type": "markdown",
   "id": "instructional-tiger",
   "metadata": {},
   "source": [
    "**Now our data in nicely organized :)**\n",
    "\n",
    "**Let's move on to data visualiaztion.**"
   ]
  },
  {
   "cell_type": "code",
   "execution_count": 11,
   "id": "bound-daughter",
   "metadata": {},
   "outputs": [
    {
     "data": {
      "image/png": "[encoded data removed]",
      "text/plain": [
       "<Figure size 864x864 with 2 Axes>"
      ]
     },
     "metadata": {
      "needs_background": "light"
     },
     "output_type": "display_data"
    }
   ],
   "source": [
    "fig, ax = plt.subplots(2, 1, figsize=(12,12))\n",
    "\n",
    "ax[0].plot(dataset['Date'], dataset['Total_cases'], \n",
    "           marker='o', \n",
    "           color='red')\n",
    "ax[0].set_title('Total cases')\n",
    "ax[1].plot(dataset['Date'], dataset['New_cases'], \n",
    "           marker='o', \n",
    "           color='red')\n",
    "ax[1].set_title('New cases')\n",
    "\n",
    "for i in range(2):\n",
    "    for k in ['top', 'right']:\n",
    "        ax[i].spines[k].set_visible(False)\n",
    "\n",
    "    ax[i].spines['left'].set_color('black')\n",
    "    ax[i].spines['bottom'].set_color('black')\n",
    "    \n",
    "    ax[i].grid(axis='y', linestyle='dashed')\n",
    "    ax[i].xaxis.grid(False)\n",
    "    \n",
    "# plt.savefig('sample_chart.png')\n",
    "plt.show()"
   ]
  },
  {
   "cell_type": "markdown",
   "id": "relevant-processor",
   "metadata": {},
   "source": [
    "**Curves represent sum of new/total cases per week.**\n",
    "\n",
    "Total cases is of course an exponential curve and over a long period of time it's change isn't very drastic. New cases on the other hand is much more unstable. WATCH https://www.youtube.com/watch?v=Kas0tIxDvrg&t=0s. "
   ]
  },
  {
   "cell_type": "code",
   "execution_count": 36,
   "id": "clinical-diploma",
   "metadata": {},
   "outputs": [
    {
     "data": {
      "image/png": "[encoded data removed]",
      "text/plain": [
       "<Figure size 1080x360 with 2 Axes>"
      ]
     },
     "metadata": {
      "needs_background": "light"
     },
     "output_type": "display_data"
    }
   ],
   "source": [
    "figure, ax = plt.subplots(1, 2, figsize=(15,5))\n",
    "\n",
    "lag_plot(dataset['Total_cases'], ax=ax[0], marker='x')\n",
    "ax[0].set_title('Cummulative cases autocorrelation')\n",
    "lag_plot(dataset['New_cases'], ax=ax[1], marker='x')\n",
    "ax[1].set_title('New cases autocorrelation')\n",
    "\n",
    "for i in range(2):\n",
    "    for k in ['top', 'right']:\n",
    "        ax[i].spines[k].set_visible(False)\n",
    "\n",
    "    ax[i].spines['left'].set_color('black')\n",
    "    ax[i].spines['bottom'].set_color('black')\n",
    "    \n",
    "    ax[i].grid(axis='y', linestyle='dashed')\n",
    "    ax[i].xaxis.grid(False)"
   ]
  },
  {
   "cell_type": "code",
   "execution_count": null,
   "id": "possible-chosen",
   "metadata": {},
   "outputs": [],
   "source": []
  },
  {
   "cell_type": "code",
   "execution_count": null,
   "id": "medium-appearance",
   "metadata": {},
   "outputs": [],
   "source": []
  }
 ],
 "metadata": {
  "kernelspec": {
   "display_name": "Python 3",
   "language": "python",
   "name": "python3"
  },
  "language_info": {
   "codemirror_mode": {
    "name": "ipython",
    "version": 3
   },
   "file_extension": ".py",
   "mimetype": "text/x-python",
   "name": "python",
   "nbconvert_exporter": "python",
   "pygments_lexer": "ipython3",
   "version": "3.8.5"
  }
 },
 "nbformat": 4,
 "nbformat_minor": 5
}
