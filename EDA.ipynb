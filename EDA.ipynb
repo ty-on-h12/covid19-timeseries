{
 "cells": [
  {
   "cell_type": "markdown",
   "id": "spectacular-prevention",
   "metadata": {},
   "source": [
    "# Covid19 - Exploratory data analysis\n",
    "**Table of contents:**\n",
    "* Importing dependecies\n",
    "* Basic data manipulation - grouping, aggregating etc.\n",
    "* Model building"
   ]
  },
  {
   "cell_type": "code",
   "execution_count": 89,
   "id": "hidden-clause",
   "metadata": {},
   "outputs": [],
   "source": [
    "import pandas as pd\n",
    "import numpy as np\n",
    "import matplotlib.pyplot as plt\n",
    "import os"
   ]
  },
  {
   "cell_type": "code",
   "execution_count": 90,
   "id": "eight-berkeley",
   "metadata": {},
   "outputs": [],
   "source": [
    "# Getting all the files in \"data\" directory \n",
    "list_of_files = os.walk('./data/')\n",
    "list_of_files = list(list_of_files)[0][2]\n",
    "\n",
    "# For EDA purposes I am going to use only one country as a template\n",
    "DIR = './data/'\n",
    "COUNTRY = 'united_kingdom.csv'"
   ]
  },
  {
   "cell_type": "code",
   "execution_count": 91,
   "id": "advisory-burner",
   "metadata": {},
   "outputs": [],
   "source": [
    "dataset = pd.read_csv(DIR + COUNTRY)"
   ]
  },
  {
   "cell_type": "code",
   "execution_count": 92,
   "id": "ecological-interstate",
   "metadata": {},
   "outputs": [
    {
     "data": {
      "text/html": [
       "<div>\n",
       "<style scoped>\n",
       "    .dataframe tbody tr th:only-of-type {\n",
       "        vertical-align: middle;\n",
       "    }\n",
       "\n",
       "    .dataframe tbody tr th {\n",
       "        vertical-align: top;\n",
       "    }\n",
       "\n",
       "    .dataframe thead th {\n",
       "        text-align: right;\n",
       "    }\n",
       "</style>\n",
       "<table border=\"1\" class=\"dataframe\">\n",
       "  <thead>\n",
       "    <tr style=\"text-align: right;\">\n",
       "      <th></th>\n",
       "      <th>Unnamed: 0</th>\n",
       "      <th>Date</th>\n",
       "      <th>Cases</th>\n",
       "      <th>Country</th>\n",
       "    </tr>\n",
       "  </thead>\n",
       "  <tbody>\n",
       "    <tr>\n",
       "      <th>0</th>\n",
       "      <td>0</td>\n",
       "      <td>2</td>\n",
       "      <td>2020-01-31</td>\n",
       "      <td>United Kingdom</td>\n",
       "    </tr>\n",
       "    <tr>\n",
       "      <th>1</th>\n",
       "      <td>1</td>\n",
       "      <td>2</td>\n",
       "      <td>2020-02-01</td>\n",
       "      <td>United Kingdom</td>\n",
       "    </tr>\n",
       "    <tr>\n",
       "      <th>2</th>\n",
       "      <td>2</td>\n",
       "      <td>2</td>\n",
       "      <td>2020-02-02</td>\n",
       "      <td>United Kingdom</td>\n",
       "    </tr>\n",
       "    <tr>\n",
       "      <th>3</th>\n",
       "      <td>3</td>\n",
       "      <td>8</td>\n",
       "      <td>2020-02-03</td>\n",
       "      <td>United Kingdom</td>\n",
       "    </tr>\n",
       "    <tr>\n",
       "      <th>4</th>\n",
       "      <td>4</td>\n",
       "      <td>8</td>\n",
       "      <td>2020-02-04</td>\n",
       "      <td>United Kingdom</td>\n",
       "    </tr>\n",
       "  </tbody>\n",
       "</table>\n",
       "</div>"
      ],
      "text/plain": [
       "   Unnamed: 0  Date       Cases         Country\n",
       "0           0     2  2020-01-31  United Kingdom\n",
       "1           1     2  2020-02-01  United Kingdom\n",
       "2           2     2  2020-02-02  United Kingdom\n",
       "3           3     8  2020-02-03  United Kingdom\n",
       "4           4     8  2020-02-04  United Kingdom"
      ]
     },
     "execution_count": 92,
     "metadata": {},
     "output_type": "execute_result"
    }
   ],
   "source": [
    "dataset.head()"
   ]
  },
  {
   "cell_type": "code",
   "execution_count": 93,
   "id": "fiscal-singles",
   "metadata": {},
   "outputs": [],
   "source": [
    "dataset.drop(['Unnamed: 0', 'Country'], axis=1, inplace=True)\n",
    "dataset['Cases'] = pd.to_datetime(dataset['Cases'])"
   ]
  },
  {
   "cell_type": "code",
   "execution_count": 94,
   "id": "sunset-wagner",
   "metadata": {},
   "outputs": [],
   "source": [
    "# I would like to see daily new cases, sadly API only gave access to total cases.\n",
    "# We know however, that new cases for day n = total cases of day n+1 - total cases of day n"
   ]
  },
  {
   "cell_type": "code",
   "execution_count": 95,
   "id": "lesser-mongolia",
   "metadata": {},
   "outputs": [],
   "source": [
    "new_cases = []\n",
    "for n in range(len(dataset['Date'])):\n",
    "    try:\n",
    "        new_cases.append(dataset['Date'][n+1] - dataset['Date'][n])\n",
    "    except KeyError:\n",
    "        new_cases.append(np.NaN)"
   ]
  },
  {
   "cell_type": "code",
   "execution_count": 96,
   "id": "hired-press",
   "metadata": {},
   "outputs": [],
   "source": [
    "dataset['New_cases'] = new_cases"
   ]
  },
  {
   "cell_type": "code",
   "execution_count": 97,
   "id": "blocked-garlic",
   "metadata": {},
   "outputs": [
    {
     "data": {
      "text/html": [
       "<div>\n",
       "<style scoped>\n",
       "    .dataframe tbody tr th:only-of-type {\n",
       "        vertical-align: middle;\n",
       "    }\n",
       "\n",
       "    .dataframe tbody tr th {\n",
       "        vertical-align: top;\n",
       "    }\n",
       "\n",
       "    .dataframe thead th {\n",
       "        text-align: right;\n",
       "    }\n",
       "</style>\n",
       "<table border=\"1\" class=\"dataframe\">\n",
       "  <thead>\n",
       "    <tr style=\"text-align: right;\">\n",
       "      <th></th>\n",
       "      <th>Date</th>\n",
       "      <th>Cases</th>\n",
       "      <th>New_cases</th>\n",
       "    </tr>\n",
       "  </thead>\n",
       "  <tbody>\n",
       "    <tr>\n",
       "      <th>0</th>\n",
       "      <td>2</td>\n",
       "      <td>2020-01-31</td>\n",
       "      <td>0.0</td>\n",
       "    </tr>\n",
       "    <tr>\n",
       "      <th>1</th>\n",
       "      <td>2</td>\n",
       "      <td>2020-02-01</td>\n",
       "      <td>0.0</td>\n",
       "    </tr>\n",
       "    <tr>\n",
       "      <th>2</th>\n",
       "      <td>2</td>\n",
       "      <td>2020-02-02</td>\n",
       "      <td>6.0</td>\n",
       "    </tr>\n",
       "    <tr>\n",
       "      <th>3</th>\n",
       "      <td>8</td>\n",
       "      <td>2020-02-03</td>\n",
       "      <td>0.0</td>\n",
       "    </tr>\n",
       "    <tr>\n",
       "      <th>4</th>\n",
       "      <td>8</td>\n",
       "      <td>2020-02-04</td>\n",
       "      <td>1.0</td>\n",
       "    </tr>\n",
       "  </tbody>\n",
       "</table>\n",
       "</div>"
      ],
      "text/plain": [
       "   Date      Cases  New_cases\n",
       "0     2 2020-01-31        0.0\n",
       "1     2 2020-02-01        0.0\n",
       "2     2 2020-02-02        6.0\n",
       "3     8 2020-02-03        0.0\n",
       "4     8 2020-02-04        1.0"
      ]
     },
     "execution_count": 97,
     "metadata": {},
     "output_type": "execute_result"
    }
   ],
   "source": [
    "dataset.head()"
   ]
  },
  {
   "cell_type": "code",
   "execution_count": 98,
   "id": "danish-original",
   "metadata": {},
   "outputs": [],
   "source": [
    "# IMPORTANT\n",
    "dataset = dataset.groupby(pd.Grouper(key='Cases',freq='W-MON')).agg({'Date':'sum', 'New_cases':'sum'})\n",
    "dataset = dataset.reset_index()"
   ]
  },
  {
   "cell_type": "code",
   "execution_count": 103,
   "id": "close-decade",
   "metadata": {},
   "outputs": [
    {
     "data": {
      "text/html": [
       "<div>\n",
       "<style scoped>\n",
       "    .dataframe tbody tr th:only-of-type {\n",
       "        vertical-align: middle;\n",
       "    }\n",
       "\n",
       "    .dataframe tbody tr th {\n",
       "        vertical-align: top;\n",
       "    }\n",
       "\n",
       "    .dataframe thead th {\n",
       "        text-align: right;\n",
       "    }\n",
       "</style>\n",
       "<table border=\"1\" class=\"dataframe\">\n",
       "  <thead>\n",
       "    <tr style=\"text-align: right;\">\n",
       "      <th></th>\n",
       "      <th>Cases</th>\n",
       "      <th>Date</th>\n",
       "      <th>New_cases</th>\n",
       "    </tr>\n",
       "  </thead>\n",
       "  <tbody>\n",
       "    <tr>\n",
       "      <th>0</th>\n",
       "      <td>2020-02-03</td>\n",
       "      <td>14</td>\n",
       "      <td>6.0</td>\n",
       "    </tr>\n",
       "    <tr>\n",
       "      <th>1</th>\n",
       "      <td>2020-02-10</td>\n",
       "      <td>76</td>\n",
       "      <td>7.0</td>\n",
       "    </tr>\n",
       "    <tr>\n",
       "      <th>2</th>\n",
       "      <td>2020-02-17</td>\n",
       "      <td>121</td>\n",
       "      <td>4.0</td>\n",
       "    </tr>\n",
       "    <tr>\n",
       "      <th>3</th>\n",
       "      <td>2020-02-24</td>\n",
       "      <td>165</td>\n",
       "      <td>15.0</td>\n",
       "    </tr>\n",
       "    <tr>\n",
       "      <th>4</th>\n",
       "      <td>2020-03-02</td>\n",
       "      <td>460</td>\n",
       "      <td>155.0</td>\n",
       "    </tr>\n",
       "  </tbody>\n",
       "</table>\n",
       "</div>"
      ],
      "text/plain": [
       "       Cases  Date  New_cases\n",
       "0 2020-02-03    14        6.0\n",
       "1 2020-02-10    76        7.0\n",
       "2 2020-02-17   121        4.0\n",
       "3 2020-02-24   165       15.0\n",
       "4 2020-03-02   460      155.0"
      ]
     },
     "execution_count": 103,
     "metadata": {},
     "output_type": "execute_result"
    }
   ],
   "source": [
    "dataset.head()"
   ]
  },
  {
   "cell_type": "code",
   "execution_count": 106,
   "id": "bound-daughter",
   "metadata": {},
   "outputs": [
    {
     "data": {
      "image/png": "[encoded data removed]",
      "text/plain": [
       "<Figure size 1152x432 with 2 Axes>"
      ]
     },
     "metadata": {
      "needs_background": "light"
     },
     "output_type": "display_data"
    }
   ],
   "source": [
    "fig, ax = plt.subplots(1, 2, figsize=(16,6))\n",
    "\n",
    "ax[0].plot(dataset['Cases'], dataset['Date'])\n",
    "ax[0].set_title('Total cases')\n",
    "ax[1].plot(dataset['Cases'], dataset['New_cases'])\n",
    "ax[1].set_title('New cases')\n",
    "plt.show()"
   ]
  }
 ],
 "metadata": {
  "kernelspec": {
   "display_name": "Python 3",
   "language": "python",
   "name": "python3"
  },
  "language_info": {
   "codemirror_mode": {
    "name": "ipython",
    "version": 3
   },
   "file_extension": ".py",
   "mimetype": "text/x-python",
   "name": "python",
   "nbconvert_exporter": "python",
   "pygments_lexer": "ipython3",
   "version": "3.8.5"
  }
 },
 "nbformat": 4,
 "nbformat_minor": 5
}
